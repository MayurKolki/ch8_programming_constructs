{
 "cells": [
  {
   "cell_type": "markdown",
   "metadata": {},
   "source": [
    "# ch8: programming constructs"
   ]
  },
  {
   "cell_type": "code",
   "execution_count": 1,
   "metadata": {},
   "outputs": [],
   "source": [
    "#if conditions\n",
    "#if else conditions \n",
    "#if-else if-else conditions"
   ]
  },
  {
   "cell_type": "code",
   "execution_count": null,
   "metadata": {},
   "outputs": [],
   "source": [
    "#loops\n",
    "#for\n",
    "#while"
   ]
  },
  {
   "cell_type": "code",
   "execution_count": 5,
   "metadata": {},
   "outputs": [
    {
     "name": "stdout",
     "output_type": "stream",
     "text": [
      "pass\n",
      "the score is 79\n",
      "end of if\n"
     ]
    }
   ],
   "source": [
    "#if condition\n",
    "#condition: if score is  more than 70 ,PASS  #we can use >>,==,<< \n",
    "score=79  #see after changing value to 9\n",
    "if score > 70:\n",
    "    print('pass')\n",
    "    print('the score is',score)\n",
    "\n",
    "print('end of if')    \n"
   ]
  },
  {
   "cell_type": "code",
   "execution_count": 10,
   "metadata": {},
   "outputs": [
    {
     "name": "stdout",
     "output_type": "stream",
     "text": [
      "score is zero\n"
     ]
    }
   ],
   "source": [
    "#comparison \n",
    "score = 0  # = assignment\n",
    "if score ==0:   # == comparison\n",
    "    print('score is zero')\n",
    "   \n",
    "#this comparison returns True/False\n",
    "score == 0    # this will show true and false"
   ]
  },
  {
   "cell_type": "code",
   "execution_count": 17,
   "metadata": {},
   "outputs": [],
   "source": [
    "#string comparison \n",
    "    status = 'in-progress'\n",
    "    if status == 'complete':\n",
    "         print ('work is complete')"
   ]
  },
  {
   "cell_type": "code",
   "execution_count": 16,
   "metadata": {},
   "outputs": [
    {
     "name": "stdout",
     "output_type": "stream",
     "text": [
      "status is True\n"
     ]
    }
   ],
   "source": [
    "#boolean comparison \n",
    "status=True\n",
    "if status :\n",
    "    print('status is True')"
   ]
  },
  {
   "cell_type": "code",
   "execution_count": 18,
   "metadata": {},
   "outputs": [
    {
     "name": "stdout",
     "output_type": "stream",
     "text": [
      "did not pass\n",
      "the score is 55\n"
     ]
    }
   ],
   "source": [
    "#if else conditions\n",
    "#print 'pass ' if score is more than 70 , else 'print did not pass'\n",
    "score=55\n",
    "if score>70:\n",
    "    print('pass')\n",
    "    print('the score is',score)\n",
    "else:\n",
    "    print('did not pass')\n",
    "    print('the score is',score)\n",
    "    #can this code nne optimsed (written in better way)"
   ]
  },
  {
   "cell_type": "code",
   "execution_count": 19,
   "metadata": {},
   "outputs": [
    {
     "name": "stdout",
     "output_type": "stream",
     "text": [
      "did not pass\n",
      "the score is 55\n"
     ]
    }
   ],
   "source": [
    "\n",
    "#optimsed ways\n",
    "score=55\n",
    "if score>70:\n",
    "    print('pass')   \n",
    "else:\n",
    "    print('did not pass')\n",
    "    print('the score is',score)"
   ]
  },
  {
   "cell_type": "code",
   "execution_count": null,
   "metadata": {},
   "outputs": [],
   "source": [
    "#we will see how to write logical operators\n",
    "#and/or/not\n",
    "#AND OPERATOR"
   ]
  },
  {
   "cell_type": "code",
   "execution_count": 20,
   "metadata": {},
   "outputs": [
    {
     "name": "stdout",
     "output_type": "stream",
     "text": [
      "reject product\n"
     ]
    }
   ],
   "source": [
    "#quality_score more than 90 and time is less than 10-> approve the product else reject product\n",
    "score=77; time=5\n",
    "if((score>90) &(time<10)):                # and , &  both are same\n",
    "    print('approve product')\n",
    "else:\n",
    "    print('reject product')"
   ]
  },
  {
   "cell_type": "code",
   "execution_count": 22,
   "metadata": {},
   "outputs": [
    {
     "name": "stdout",
     "output_type": "stream",
     "text": [
      "it is that is divisible by 6\n"
     ]
    }
   ],
   "source": [
    "#generate an integer  and check if it is that is divisible by 6\n",
    "a=18\n",
    "if(a%6==0):\n",
    "    print('it is that is divisible by 6')\n",
    "else:\n",
    "    print('it is not that is divisible by 6')\n"
   ]
  },
  {
   "cell_type": "code",
   "execution_count": 25,
   "metadata": {},
   "outputs": [
    {
     "name": "stdout",
     "output_type": "stream",
     "text": [
      "23 nor divisible by 6\n"
     ]
    }
   ],
   "source": [
    "#generate an integer  and check if it is that is divisible by 6\n",
    "import random\n",
    "num = random.randint(10,100)\n",
    "if num%6==0:\n",
    "    print('{} divisible by 6'.format(num))\n",
    "else:\n",
    "    print('{} nor divisible by 6'.format(num))"
   ]
  },
  {
   "cell_type": "code",
   "execution_count": 26,
   "metadata": {},
   "outputs": [
    {
     "name": "stdout",
     "output_type": "stream",
     "text": [
      "product approved \n"
     ]
    }
   ],
   "source": [
    "#OR operator |->sign \n",
    "#quality_score more than 95 and time is less than 5 -> approve the product ; else reject product\n",
    "score=77; time=4\n",
    "if ((score>95)|(time<5)):\n",
    "    print('product approved ')\n",
    "else:\n",
    "    print('product not approved')"
   ]
  },
  {
   "cell_type": "code",
   "execution_count": 28,
   "metadata": {},
   "outputs": [
    {
     "name": "stdout",
     "output_type": "stream",
     "text": [
      "result is not win\n"
     ]
    }
   ],
   "source": [
    "#NOT operator as R-STUDIO !=\n",
    "result =\"draw\"\n",
    "if result !=\"win\":\n",
    "    print('result is not win')\n",
    "else:\n",
    "    print('result is win')"
   ]
  },
  {
   "cell_type": "code",
   "execution_count": 29,
   "metadata": {},
   "outputs": [
    {
     "data": {
      "text/plain": [
       "True"
      ]
     },
     "execution_count": 29,
     "metadata": {},
     "output_type": "execute_result"
    }
   ],
   "source": [
    "#if-else  if-else conditions\n",
    "#score  as 'very good ','good ','average','bad'\n",
    "'''\n",
    "out of 10\n",
    "very good ->9-10\n",
    "good ->7-8\n",
    "average -> 3-6\n",
    "bad ->  <3\n",
    "'''\n",
    "score = 8\n",
    "#we can us range function\n",
    "score in range (7,9)\n",
    "#score>=7 and score <=8      ------>same as upper one"
   ]
  },
  {
   "cell_type": "code",
   "execution_count": 35,
   "metadata": {},
   "outputs": [
    {
     "name": "stdout",
     "output_type": "stream",
     "text": [
      "score = 2, rating =bad\n"
     ]
    }
   ],
   "source": [
    "#if-else  if-else conditions\n",
    "score=2\n",
    "if score in range(9,11):\n",
    "    rating='very good'\n",
    "elif score in range(7,9):\n",
    "    rating='good'\n",
    "elif score in range(3,7):\n",
    "    rating='average'\n",
    "elif score in range(1,3):\n",
    "    rating='bad'\n",
    "else:\n",
    "    rating='invalid number'\n",
    "print('score = {}, rating ={}'.format(score,rating))   "
   ]
  },
  {
   "cell_type": "code",
   "execution_count": 36,
   "metadata": {},
   "outputs": [
    {
     "data": {
      "text/plain": [
       "False"
      ]
     },
     "execution_count": 36,
     "metadata": {},
     "output_type": "execute_result"
    }
   ],
   "source": [
    "#h0w does it work when we have comt. values\n",
    "#range does not work for continuous numbers\n",
    "10.4 in range(10,15)   #it will show false because it only work for discreate number"
   ]
  },
  {
   "cell_type": "code",
   "execution_count": 37,
   "metadata": {},
   "outputs": [
    {
     "data": {
      "text/plain": [
       "True"
      ]
     },
     "execution_count": 37,
     "metadata": {},
     "output_type": "execute_result"
    }
   ],
   "source": [
    "#to check continuous numbers, use the algebric notation\n",
    "#\n",
    "10 <= 10.4 <=15"
   ]
  },
  {
   "cell_type": "code",
   "execution_count": 104,
   "metadata": {},
   "outputs": [
    {
     "name": "stdout",
     "output_type": "stream",
     "text": [
      "score = 9.1, rating =very good\n"
     ]
    }
   ],
   "source": [
    "#rewrite the  above code where the score can now take continuous values\n",
    "#'rating' condition is the same\n",
    "score=9.1\n",
    "if  9 <= score<= 11:\n",
    "    rating='very good'\n",
    "elif 7 <= score <= 9:\n",
    "    rating='good'\n",
    "elif 3<=score<=7:\n",
    "    rating='average'\n",
    "elif 1<=score<=3:\n",
    "    rating='bad'\n",
    "else:\n",
    "    rating='invalid number'\n",
    "print('score = {}, rating ={}'.format(score,rating))           "
   ]
  },
  {
   "cell_type": "code",
   "execution_count": null,
   "metadata": {},
   "outputs": [],
   "source": [
    "#loops\n",
    "#what do u mean by iterable object? ->repeatable object\n",
    "# An iterable is any Python object capable of returning its members one at a time, \n",
    "#permitting it to be iterated over in a for-loop.\n",
    "#Familiar examples of iterables include lists, tuples, and strings - any such sequence can be iterated over in a for-loop."
   ]
  },
  {
   "cell_type": "code",
   "execution_count": 43,
   "metadata": {},
   "outputs": [
    {
     "name": "stdout",
     "output_type": "stream",
     "text": [
      "[88, 57, 43, 37, 60, 73, 64, 51, 68, 39, 4, 71, 6, 7, 41, 73, 86, 48, 76, 14]"
     ]
    }
   ],
   "source": [
    "#create a number list\n",
    "num=random.choices(range(1,100),k=20)\n",
    "print(num,end=\"\")\n"
   ]
  },
  {
   "cell_type": "code",
   "execution_count": 48,
   "metadata": {},
   "outputs": [
    {
     "name": "stdout",
     "output_type": "stream",
     "text": [
      "[22, 74, 98, 91, 94, 52, 78, 66, 11, 78, 61, 34, 56, 59, 3, 26, 72, 12, 93, 42] old number = 22\n",
      "new number = 27\n",
      "number =  27\n",
      "number =  74\n",
      "number =  98\n",
      "number =  91\n",
      "number =  94\n",
      "number =  52\n",
      "number =  78\n",
      "number =  66\n",
      "old number = 11\n",
      "new number = 16\n",
      "number =  16\n",
      "number =  78\n",
      "number =  61\n",
      "number =  34\n",
      "number =  56\n",
      "number =  59\n",
      "old number = 3\n",
      "new number = 8\n",
      "number =  8\n",
      "number =  26\n",
      "number =  72\n",
      "old number = 12\n",
      "new number = 17\n",
      "number =  17\n",
      "number =  93\n",
      "number =  42\n"
     ]
    }
   ],
   "source": [
    "#loop through every number\n",
    "#if the number is less than 25,add 5 to it\n",
    "num=random.choices(range(1,100),k=20)\n",
    "print(num,end=\" \")   #end ->print horizontal format\n",
    "\n",
    "#1) getting the values directly from object\n",
    "for i in num:\n",
    "    if i <25:\n",
    "        print('old number =',i)\n",
    "        i+=5      #same as i=i+5\n",
    "        print('new number =',i)\n",
    "    print('number = ',i)    \n"
   ]
  },
  {
   "cell_type": "code",
   "execution_count": 49,
   "metadata": {},
   "outputs": [
    {
     "name": "stdout",
     "output_type": "stream",
     "text": [
      "[22, 74, 98, 91, 94, 52, 78, 66, 11, 78, 61, 34, 56, 59, 3, 26, 72, 12, 93, 42]\n"
     ]
    }
   ],
   "source": [
    "print(num) #original list is as it is... means it does not modify the original list\n"
   ]
  },
  {
   "cell_type": "code",
   "execution_count": 51,
   "metadata": {},
   "outputs": [
    {
     "data": {
      "text/plain": [
       "20"
      ]
     },
     "execution_count": 51,
     "metadata": {},
     "output_type": "execute_result"
    }
   ],
   "source": [
    "len(num)"
   ]
  },
  {
   "cell_type": "code",
   "execution_count": 54,
   "metadata": {},
   "outputs": [
    {
     "name": "stdout",
     "output_type": "stream",
     "text": [
      "[27, 74, 98, 91, 94, 52, 78, 66, 26, 78, 61, 34, 56, 59, 18, 26, 72, 27, 93, 42]\n"
     ]
    }
   ],
   "source": [
    "#2)getting the values  from element position \n",
    "#if value is <25 (less than) increment it by 5 and update the list\n",
    "for i in range(0,len(num)):\n",
    "    if num[i]<25:\n",
    "        num[i]+=5\n",
    "print(num)        "
   ]
  },
  {
   "cell_type": "code",
   "execution_count": 60,
   "metadata": {},
   "outputs": [
    {
     "name": "stdout",
     "output_type": "stream",
     "text": [
      "number = 10\n",
      "number = 9\n",
      "number = 8\n",
      "number = 7\n",
      "number = 6\n"
     ]
    }
   ],
   "source": [
    "#while loop #auto increment or decrement \n",
    "n=10\n",
    "while(n>1):\n",
    "    print(\"number =\",n)\n",
    "    n-=1     # n=n-1\n",
    "    #terminate the loop mid-way\n",
    "    if n<=5:\n",
    "        break"
   ]
  },
  {
   "cell_type": "code",
   "execution_count": 105,
   "metadata": {},
   "outputs": [
    {
     "name": "stdout",
     "output_type": "stream",
     "text": [
      "number = 10\n",
      "number = 9\n",
      "number = 8\n",
      "number = 7\n",
      "number = 6\n",
      "number = 5\n",
      "number = 4\n",
      "number = 3\n",
      "number = 2\n"
     ]
    }
   ],
   "source": [
    "#while loop #auto increment or decrement \n",
    "n=10\n",
    "while(n > 1):\n",
    "    print(\"number =\",n)\n",
    "    n-=1     # n=n-1"
   ]
  },
  {
   "cell_type": "code",
   "execution_count": 77,
   "metadata": {},
   "outputs": [
    {
     "name": "stdout",
     "output_type": "stream",
     "text": [
      "[48, 66, 89, 71, 11, 68, 16, 12, 16, 28, 69, 53, 96, 84, 52, 48, 55, 94, 28, 11] "
     ]
    }
   ],
   "source": [
    "#generate a number that is divisible by 7, (dont use the step size) between 7-100\n",
    "#1)print the number that is generated \n",
    "#2)print the number of iterations it took to get the desired number\n",
    "num=56\n",
    "num=random.choices(range(1,100),k=20)\n",
    "print(num,end=\" \")   #end ->print horizontal format\n"
   ]
  },
  {
   "cell_type": "code",
   "execution_count": 82,
   "metadata": {},
   "outputs": [
    {
     "name": "stdout",
     "output_type": "stream",
     "text": [
      "Not Divisible\n"
     ]
    }
   ],
   "source": [
    "# Python program to check whether a number is divisible by 7 \n",
    "                     ### found from \"GOOGLE\"\n",
    "# Function to check whether a number is divisible by 7 \n",
    "def isDivisibleBy7(num) : \n",
    "      \n",
    "    # If number is negative, make it positive \n",
    "    if num < 0 : \n",
    "        return isDivisibleBy7( -num ) \n",
    "  \n",
    "    # Base cases \n",
    "    if( num == 0 or num == 7 ) : \n",
    "        return True\n",
    "      \n",
    "    if( num < 10 ) : \n",
    "        return False\n",
    "          \n",
    "    # Recur for ( num / 10 - 2 * num % 10 )  \n",
    "    return isDivisibleBy7( num / 10 - 2 * ( num - num / 10 * 10 ) ) \n",
    "      \n",
    "# Driver program \n",
    "num = 616\n",
    "if(isDivisibleBy7(num)) : \n",
    "    print (\"Divisible\")\n",
    "else : \n",
    "    print (\"Not Divisible\")\n",
    "  \n"
   ]
  },
  {
   "cell_type": "code",
   "execution_count": 87,
   "metadata": {},
   "outputs": [
    {
     "name": "stdout",
     "output_type": "stream",
     "text": [
      "number 79 generated in iteration 2\n",
      "number 49 generated in iteration 2\n"
     ]
    }
   ],
   "source": [
    "####solved by sir\n",
    "\n",
    "notfound = True\n",
    "iters = 1\n",
    "\n",
    "while(notfound):\n",
    "    num = random.randint(1,101)\n",
    "    if num%7==0:\n",
    "        notfound = False\n",
    "    else:\n",
    "        iters+=1\n",
    "        \n",
    "    print('number {} generated in iteration {}'.format(num,iters))       "
   ]
  },
  {
   "cell_type": "code",
   "execution_count": null,
   "metadata": {},
   "outputs": [],
   "source": [
    "#boolean variable notfound=True\n",
    "#iters=1  ->if iteration intial o, \n",
    "#while(notfound)\n",
    "#{\n",
    "#    number= random ;\n",
    "#    if number%7==0(divisible by 7)\n",
    "#    notfound=False\n",
    "#     else\n",
    "#        iter++;\n",
    "#}\n",
    "#print(numbers,iters)"
   ]
  },
  {
   "cell_type": "code",
   "execution_count": null,
   "metadata": {},
   "outputs": [],
   "source": [
    "#create 2 number lists \n",
    "#list 1 will have -> all odd numbers between 1-100\n",
    "#list2 will have  -> all even numbers between 1-100\n",
    "#write a python script using a single for loop"
   ]
  },
  {
   "cell_type": "code",
   "execution_count": 98,
   "metadata": {},
   "outputs": [
    {
     "name": "stdout",
     "output_type": "stream",
     "text": [
      "[1, 3, 5, 7, 9, 11, 13, 15, 17, 19, 21, 23, 25, 27, 29, 31, 33, 35, 37, 39, 41, 43, 45, 47, 49, 51, 53, 55, 57, 59, 61, 63, 65, 67, 69, 71, 73, 75, 77, 79, 81, 83, 85, 87, 89, 91, 93, 95, 97, 99]\n",
      "[0, 2, 4, 6, 8, 10, 12, 14, 16, 18, 20, 22, 24, 26, 28, 30, 32, 34, 36, 38, 40, 42, 44, 46, 48, 50, 52, 54, 56, 58, 60, 62, 64, 66, 68, 70, 72, 74, 76, 78, 80, 82, 84, 86, 88, 90, 92, 94, 96, 98, 100]\n"
     ]
    }
   ],
   "source": [
    "list1=list(range(1,101,2))\n",
    "list2=list(range(0,101,2))\n",
    "print(list1)\n",
    "print(list2)"
   ]
  },
  {
   "cell_type": "code",
   "execution_count": null,
   "metadata": {},
   "outputs": [],
   "source": [
    "# Python program to count Even \n",
    "# and Odd numbers in a List \n",
    "      ############ found from \"google\"\n",
    "# list of numbers \n",
    "list1 = [10, 21, 4, 45, 66, 93, 1] \n",
    "  \n",
    "even_count, odd_count = 0, 0\n",
    "  \n",
    "# iterating each number in list \n",
    "for num in list1: \n",
    "      \n",
    "    # checking condition \n",
    "    if num % 2 == 0: \n",
    "        even_count += 1\n",
    "  \n",
    "    else: \n",
    "        odd_count += 1\n",
    "          \n",
    "print(\"Even numbers in the list: \", even_count) \n",
    "print(\"Odd numbers in the list: \", odd_count) "
   ]
  },
  {
   "cell_type": "code",
   "execution_count": 99,
   "metadata": {},
   "outputs": [
    {
     "name": "stdout",
     "output_type": "stream",
     "text": [
      "[1, 3, 5, 7, 9, 11, 13, 15, 17, 19, 21, 23, 25, 27, 29, 31, 33, 35, 37, 39, 41, 43, 45, 47, 49, 51, 53, 55, 57, 59, 61, 63, 65, 67, 69, 71, 73, 75, 77, 79, 81, 83, 85, 87, 89, 91, 93, 95, 97, 99]\n",
      "[2, 4, 6, 8, 10, 12, 14, 16, 18, 20, 22, 24, 26, 28, 30, 32, 34, 36, 38, 40, 42, 44, 46, 48, 50, 52, 54, 56, 58, 60, 62, 64, 66, 68, 70, 72, 74, 76, 78, 80, 82, 84, 86, 88, 90, 92, 94, 96, 98, 100]\n"
     ]
    }
   ],
   "source": [
    "#first is ti create empty list\n",
    "list1=[]; list2=[]\n",
    "for i in range(1,101):\n",
    "    if i%2==0:\n",
    "        list2.append(i)\n",
    "    else:\n",
    "        list1.append(i)\n",
    "print(list1)\n",
    "print(list2)"
   ]
  },
  {
   "cell_type": "code",
   "execution_count": 103,
   "metadata": {},
   "outputs": [
    {
     "name": "stdout",
     "output_type": "stream",
     "text": [
      "status is in-progress\n"
     ]
    }
   ],
   "source": [
    "###########\n",
    "# None datatype\n",
    "status = None\n",
    "status = 'in-progress'\n",
    "\n",
    "if status is None:\n",
    "    print('status is not know')\n",
    "else:\n",
    "    print('status is',status)\n"
   ]
  },
  {
   "cell_type": "code",
   "execution_count": null,
   "metadata": {},
   "outputs": [],
   "source": []
  }
 ],
 "metadata": {
  "kernelspec": {
   "display_name": "Python 3",
   "language": "python",
   "name": "python3"
  },
  "language_info": {
   "codemirror_mode": {
    "name": "ipython",
    "version": 3
   },
   "file_extension": ".py",
   "mimetype": "text/x-python",
   "name": "python",
   "nbconvert_exporter": "python",
   "pygments_lexer": "ipython3",
   "version": "3.7.6"
  }
 },
 "nbformat": 4,
 "nbformat_minor": 4
}
